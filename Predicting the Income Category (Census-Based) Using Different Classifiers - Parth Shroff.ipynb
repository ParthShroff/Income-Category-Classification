{
 "cells": [
  {
   "cell_type": "markdown",
   "metadata": {},
   "source": [
    "# <font color = 'CornflowerBlue'>My Experience with Machine Learning</font>\n",
    "My experience with machine learning is limited to Neural Networks and more specifically, Convolutional Neural Networks (CNN). During the summer of 2018, I worked on a small project with CRL at UT Austin where I learned and develop python scripts to implement training on AlexNet based CNN for different weights and input image bit vectors. I used a bit of TensorFlow and Keras to implement the scripts. Outside of CNNs, I have also looked into Spiking Neural Networks. \n",
    "\n",
    "I have a general understanding of machine learning from a mathematical standpoint (e.g. Batch vs Stochastic Gradient Descent, Kernels, SVM, Regression, Naive Bayes, etc.) I have minimal experience with packages such as SciKit Learn. Since I took Linear Algebra, Multivariable Calculus, and Differential Equations in high school, my theoretical knowledge of Machine Learning is a bit stronger than my practical expertise. "
   ]
  },
  {
   "cell_type": "markdown",
   "metadata": {},
   "source": [
    "# <font color = 'CornflowerBlue'>Introduction to the dataset</font>\n",
    "The dataset comes from the UC Irvine database. The extraction was done by Barry Becker from the 1994 Census Database. The prediction task is the income cateogry (greater than $\\$50$K or less than $\\$50$K). Features include Age, Class of Work, Final Weight (Estimate of the number of people the census believes the entry is generalized to), Education, Education by Year, Marital Status, Occupation, Relationship, Race, Sex, Capital-Gain, Capital-Loss, Hours per week, and Native Country.\n"
   ]
  },
  {
   "cell_type": "markdown",
   "metadata": {},
   "source": [
    "# <font color = 'CornflowerBlue'>Implementation of Classifiers</font>"
   ]
  },
  {
   "cell_type": "markdown",
   "metadata": {},
   "source": [
    "Import statements from pandas, seaborn, matplotlib, and sklearn."
   ]
  },
  {
   "cell_type": "code",
   "execution_count": 37,
   "metadata": {},
   "outputs": [],
   "source": [
    "import pandas as pd\n",
    "import seaborn as sns\n",
    "import matplotlib.pyplot as plt\n",
    "from sklearn.ensemble import RandomForestClassifier\n",
    "from sklearn.svm import SVC #Support Vector Classifier\n",
    "from sklearn import svm #Support Vector Machine\n",
    "from sklearn.neural_network import MLPClassifier\n",
    "from sklearn.metrics import confusion_matrix, classification_report\n",
    "from sklearn.preprocessing import StandardScaler\n",
    "from sklearn.model_selection import train_test_split, cross_val_score, GridSearchCV, RandomizedSearchCV\n",
    "from sklearn.metrics import accuracy_score, f1_score, make_scorer\n",
    "from sklearn.tree import DecisionTreeClassifier\n",
    "%matplotlib inline"
   ]
  },
  {
   "cell_type": "markdown",
   "metadata": {},
   "source": [
    "## <font color = 'SeaGreen'> Reformating and Analyzing Data </font> "
   ]
  },
  {
   "cell_type": "code",
   "execution_count": 2,
   "metadata": {},
   "outputs": [],
   "source": [
    "income = pd.read_csv('adult.csv')"
   ]
  },
  {
   "cell_type": "code",
   "execution_count": 3,
   "metadata": {},
   "outputs": [
    {
     "data": {
      "text/html": [
       "<div>\n",
       "<style scoped>\n",
       "    .dataframe tbody tr th:only-of-type {\n",
       "        vertical-align: middle;\n",
       "    }\n",
       "\n",
       "    .dataframe tbody tr th {\n",
       "        vertical-align: top;\n",
       "    }\n",
       "\n",
       "    .dataframe thead th {\n",
       "        text-align: right;\n",
       "    }\n",
       "</style>\n",
       "<table border=\"1\" class=\"dataframe\">\n",
       "  <thead>\n",
       "    <tr style=\"text-align: right;\">\n",
       "      <th></th>\n",
       "      <th>Age</th>\n",
       "      <th>Class of Work</th>\n",
       "      <th>Final Weight</th>\n",
       "      <th>Education</th>\n",
       "      <th>Education by Year</th>\n",
       "      <th>Marital Status</th>\n",
       "      <th>Occupation</th>\n",
       "      <th>Relationship</th>\n",
       "      <th>Race</th>\n",
       "      <th>Sex</th>\n",
       "      <th>Capital-Gain</th>\n",
       "      <th>Capital-Loss</th>\n",
       "      <th>Hours per week</th>\n",
       "      <th>Native Country</th>\n",
       "      <th>Income Category</th>\n",
       "    </tr>\n",
       "  </thead>\n",
       "  <tbody>\n",
       "    <tr>\n",
       "      <th>0</th>\n",
       "      <td>39</td>\n",
       "      <td>State-gov</td>\n",
       "      <td>77516</td>\n",
       "      <td>Bachelors</td>\n",
       "      <td>13</td>\n",
       "      <td>Never-married</td>\n",
       "      <td>Adm-clerical</td>\n",
       "      <td>Not-in-family</td>\n",
       "      <td>White</td>\n",
       "      <td>Male</td>\n",
       "      <td>2174</td>\n",
       "      <td>0</td>\n",
       "      <td>40</td>\n",
       "      <td>United-States</td>\n",
       "      <td>&lt;=50K</td>\n",
       "    </tr>\n",
       "    <tr>\n",
       "      <th>1</th>\n",
       "      <td>50</td>\n",
       "      <td>Self-emp-not-inc</td>\n",
       "      <td>83311</td>\n",
       "      <td>Bachelors</td>\n",
       "      <td>13</td>\n",
       "      <td>Married-civ-spouse</td>\n",
       "      <td>Exec-managerial</td>\n",
       "      <td>Husband</td>\n",
       "      <td>White</td>\n",
       "      <td>Male</td>\n",
       "      <td>0</td>\n",
       "      <td>0</td>\n",
       "      <td>13</td>\n",
       "      <td>United-States</td>\n",
       "      <td>&lt;=50K</td>\n",
       "    </tr>\n",
       "    <tr>\n",
       "      <th>2</th>\n",
       "      <td>38</td>\n",
       "      <td>Private</td>\n",
       "      <td>215646</td>\n",
       "      <td>HS-grad</td>\n",
       "      <td>9</td>\n",
       "      <td>Divorced</td>\n",
       "      <td>Handlers-cleaners</td>\n",
       "      <td>Not-in-family</td>\n",
       "      <td>White</td>\n",
       "      <td>Male</td>\n",
       "      <td>0</td>\n",
       "      <td>0</td>\n",
       "      <td>40</td>\n",
       "      <td>United-States</td>\n",
       "      <td>&lt;=50K</td>\n",
       "    </tr>\n",
       "    <tr>\n",
       "      <th>3</th>\n",
       "      <td>53</td>\n",
       "      <td>Private</td>\n",
       "      <td>234721</td>\n",
       "      <td>11th</td>\n",
       "      <td>7</td>\n",
       "      <td>Married-civ-spouse</td>\n",
       "      <td>Handlers-cleaners</td>\n",
       "      <td>Husband</td>\n",
       "      <td>Black</td>\n",
       "      <td>Male</td>\n",
       "      <td>0</td>\n",
       "      <td>0</td>\n",
       "      <td>40</td>\n",
       "      <td>United-States</td>\n",
       "      <td>&lt;=50K</td>\n",
       "    </tr>\n",
       "    <tr>\n",
       "      <th>4</th>\n",
       "      <td>28</td>\n",
       "      <td>Private</td>\n",
       "      <td>338409</td>\n",
       "      <td>Bachelors</td>\n",
       "      <td>13</td>\n",
       "      <td>Married-civ-spouse</td>\n",
       "      <td>Prof-specialty</td>\n",
       "      <td>Wife</td>\n",
       "      <td>Black</td>\n",
       "      <td>Female</td>\n",
       "      <td>0</td>\n",
       "      <td>0</td>\n",
       "      <td>40</td>\n",
       "      <td>Cuba</td>\n",
       "      <td>&lt;=50K</td>\n",
       "    </tr>\n",
       "  </tbody>\n",
       "</table>\n",
       "</div>"
      ],
      "text/plain": [
       "   Age      Class of Work  Final Weight  Education  Education by Year  \\\n",
       "0   39          State-gov         77516  Bachelors                 13   \n",
       "1   50   Self-emp-not-inc         83311  Bachelors                 13   \n",
       "2   38            Private        215646    HS-grad                  9   \n",
       "3   53            Private        234721       11th                  7   \n",
       "4   28            Private        338409  Bachelors                 13   \n",
       "\n",
       "       Marital Status         Occupation   Relationship   Race     Sex  \\\n",
       "0       Never-married       Adm-clerical  Not-in-family  White    Male   \n",
       "1  Married-civ-spouse    Exec-managerial        Husband  White    Male   \n",
       "2            Divorced  Handlers-cleaners  Not-in-family  White    Male   \n",
       "3  Married-civ-spouse  Handlers-cleaners        Husband  Black    Male   \n",
       "4  Married-civ-spouse     Prof-specialty           Wife  Black  Female   \n",
       "\n",
       "   Capital-Gain  Capital-Loss  Hours per week Native Country Income Category  \n",
       "0          2174             0              40  United-States           <=50K  \n",
       "1             0             0              13  United-States           <=50K  \n",
       "2             0             0              40  United-States           <=50K  \n",
       "3             0             0              40  United-States           <=50K  \n",
       "4             0             0              40           Cuba           <=50K  "
      ]
     },
     "execution_count": 3,
     "metadata": {},
     "output_type": "execute_result"
    }
   ],
   "source": [
    "income.head()"
   ]
  },
  {
   "cell_type": "code",
   "execution_count": 4,
   "metadata": {},
   "outputs": [
    {
     "data": {
      "text/html": [
       "<div>\n",
       "<style scoped>\n",
       "    .dataframe tbody tr th:only-of-type {\n",
       "        vertical-align: middle;\n",
       "    }\n",
       "\n",
       "    .dataframe tbody tr th {\n",
       "        vertical-align: top;\n",
       "    }\n",
       "\n",
       "    .dataframe thead th {\n",
       "        text-align: right;\n",
       "    }\n",
       "</style>\n",
       "<table border=\"1\" class=\"dataframe\">\n",
       "  <thead>\n",
       "    <tr style=\"text-align: right;\">\n",
       "      <th></th>\n",
       "      <th>Age</th>\n",
       "      <th>Final Weight</th>\n",
       "      <th>Education by Year</th>\n",
       "      <th>Capital-Gain</th>\n",
       "      <th>Capital-Loss</th>\n",
       "      <th>Hours per week</th>\n",
       "    </tr>\n",
       "  </thead>\n",
       "  <tbody>\n",
       "    <tr>\n",
       "      <th>count</th>\n",
       "      <td>32561.000000</td>\n",
       "      <td>3.256100e+04</td>\n",
       "      <td>32561.000000</td>\n",
       "      <td>32561.000000</td>\n",
       "      <td>32561.000000</td>\n",
       "      <td>32561.000000</td>\n",
       "    </tr>\n",
       "    <tr>\n",
       "      <th>mean</th>\n",
       "      <td>38.581647</td>\n",
       "      <td>1.897784e+05</td>\n",
       "      <td>10.080679</td>\n",
       "      <td>1077.648844</td>\n",
       "      <td>87.303830</td>\n",
       "      <td>40.437456</td>\n",
       "    </tr>\n",
       "    <tr>\n",
       "      <th>std</th>\n",
       "      <td>13.640433</td>\n",
       "      <td>1.055500e+05</td>\n",
       "      <td>2.572720</td>\n",
       "      <td>7385.292085</td>\n",
       "      <td>402.960219</td>\n",
       "      <td>12.347429</td>\n",
       "    </tr>\n",
       "    <tr>\n",
       "      <th>min</th>\n",
       "      <td>17.000000</td>\n",
       "      <td>1.228500e+04</td>\n",
       "      <td>1.000000</td>\n",
       "      <td>0.000000</td>\n",
       "      <td>0.000000</td>\n",
       "      <td>1.000000</td>\n",
       "    </tr>\n",
       "    <tr>\n",
       "      <th>25%</th>\n",
       "      <td>28.000000</td>\n",
       "      <td>1.178270e+05</td>\n",
       "      <td>9.000000</td>\n",
       "      <td>0.000000</td>\n",
       "      <td>0.000000</td>\n",
       "      <td>40.000000</td>\n",
       "    </tr>\n",
       "    <tr>\n",
       "      <th>50%</th>\n",
       "      <td>37.000000</td>\n",
       "      <td>1.783560e+05</td>\n",
       "      <td>10.000000</td>\n",
       "      <td>0.000000</td>\n",
       "      <td>0.000000</td>\n",
       "      <td>40.000000</td>\n",
       "    </tr>\n",
       "    <tr>\n",
       "      <th>75%</th>\n",
       "      <td>48.000000</td>\n",
       "      <td>2.370510e+05</td>\n",
       "      <td>12.000000</td>\n",
       "      <td>0.000000</td>\n",
       "      <td>0.000000</td>\n",
       "      <td>45.000000</td>\n",
       "    </tr>\n",
       "    <tr>\n",
       "      <th>max</th>\n",
       "      <td>90.000000</td>\n",
       "      <td>1.484705e+06</td>\n",
       "      <td>16.000000</td>\n",
       "      <td>99999.000000</td>\n",
       "      <td>4356.000000</td>\n",
       "      <td>99.000000</td>\n",
       "    </tr>\n",
       "  </tbody>\n",
       "</table>\n",
       "</div>"
      ],
      "text/plain": [
       "                Age  Final Weight  Education by Year  Capital-Gain  \\\n",
       "count  32561.000000  3.256100e+04       32561.000000  32561.000000   \n",
       "mean      38.581647  1.897784e+05          10.080679   1077.648844   \n",
       "std       13.640433  1.055500e+05           2.572720   7385.292085   \n",
       "min       17.000000  1.228500e+04           1.000000      0.000000   \n",
       "25%       28.000000  1.178270e+05           9.000000      0.000000   \n",
       "50%       37.000000  1.783560e+05          10.000000      0.000000   \n",
       "75%       48.000000  2.370510e+05          12.000000      0.000000   \n",
       "max       90.000000  1.484705e+06          16.000000  99999.000000   \n",
       "\n",
       "       Capital-Loss  Hours per week  \n",
       "count  32561.000000    32561.000000  \n",
       "mean      87.303830       40.437456  \n",
       "std      402.960219       12.347429  \n",
       "min        0.000000        1.000000  \n",
       "25%        0.000000       40.000000  \n",
       "50%        0.000000       40.000000  \n",
       "75%        0.000000       45.000000  \n",
       "max     4356.000000       99.000000  "
      ]
     },
     "execution_count": 4,
     "metadata": {},
     "output_type": "execute_result"
    }
   ],
   "source": [
    "income.describe()"
   ]
  },
  {
   "cell_type": "code",
   "execution_count": 5,
   "metadata": {},
   "outputs": [
    {
     "name": "stdout",
     "output_type": "stream",
     "text": [
      "<class 'pandas.core.frame.DataFrame'>\n",
      "RangeIndex: 32561 entries, 0 to 32560\n",
      "Data columns (total 15 columns):\n",
      " #   Column             Non-Null Count  Dtype \n",
      "---  ------             --------------  ----- \n",
      " 0   Age                32561 non-null  int64 \n",
      " 1   Class of Work      32561 non-null  object\n",
      " 2   Final Weight       32561 non-null  int64 \n",
      " 3   Education          32561 non-null  object\n",
      " 4   Education by Year  32561 non-null  int64 \n",
      " 5   Marital Status     32561 non-null  object\n",
      " 6   Occupation         32561 non-null  object\n",
      " 7   Relationship       32561 non-null  object\n",
      " 8   Race               32561 non-null  object\n",
      " 9   Sex                32561 non-null  object\n",
      " 10  Capital-Gain       32561 non-null  int64 \n",
      " 11  Capital-Loss       32561 non-null  int64 \n",
      " 12  Hours per week     32561 non-null  int64 \n",
      " 13  Native Country     32561 non-null  object\n",
      " 14  Income Category    32561 non-null  object\n",
      "dtypes: int64(6), object(9)\n",
      "memory usage: 3.7+ MB\n"
     ]
    }
   ],
   "source": [
    "income.info()"
   ]
  },
  {
   "cell_type": "code",
   "execution_count": 6,
   "metadata": {},
   "outputs": [],
   "source": [
    "income['Income Category'].replace([' <=50K', ' >50K'], [0, 1], inplace = True)\n",
    "income['Class of Work'].replace([' Private', ' Self-emp-not-inc', ' Self-emp-inc', ' Federal-gov', ' Local-gov', ' State-gov', ' Without-pay', ' Never-worked'], [0, 1, 2, 3, 4, 5, 6, 7], inplace = True)\n",
    "income['Marital Status'].replace(['Married-civ-spouse', 'Divorced', 'Never-married', 'Separated', 'Widowed', 'Married-spouse-absent', 'Married-AF-spouse'], [0, 1, 2, 3, 4, 5, 6], inplace = True)\n",
    "income['Sex'].replace(['Male', 'Female'], [0, 1], inplace = True)\n",
    "income['Occupation'].replace(['Tech-support', 'Craft-repair', 'Other-service', 'Sales', 'Exec-managerial', 'Prof-specialty', 'Handlers-cleaners', 'Machine-op-inspct', 'Adm-clerical', 'Farming-fishing', 'Transport-moving', 'Priv-house-serv', 'Protective-serv', 'Armed-Forces'], [0, 1, 2, 3, 4, 5, 6, 7, 8, 9, 10, 11, 12, 13], inplace = True)\n",
    "income['Education'].replace(['Bachelors', 'Some-college', '11th', 'HS-grad', 'Prof-school', 'Assoc-acdm', 'Assoc-voc', '9th', '7th-8th', '12th', 'Masters', '1st-4th', '10th', 'Doctorate', '5th-6th', 'Preschool'], [0, 1, 2, 3, 4, 5, 6, 7, 8, 9, 10, 11, 12, 13, 14, 15], inplace = True)\n",
    "income['Relationship'].replace(['Wife', 'Own-child', 'Husband', 'Not-in-family', 'Other-relative', 'Unmarried'], [0, 1, 2, 3, 4, 5], inplace = True)\n",
    "income['Race'].replace(['White', 'Asian-Pac-Islander', 'Amer-Indian-Eskimo', 'Other', 'Black'], [0, 1, 2, 3, 4], inplace = True)\n",
    "income['Native Country'].replace(['United-States', 'Cambodia', 'England', 'Puerto-Rico', 'Canada', 'Germany', 'Outlying-US(Guam-USVI-etc)', 'India', 'Japan', 'Greece', 'South', 'China', 'Cuba', 'Iran', 'Honduras', 'Philippines', 'Italy', 'Poland', 'Jamaica', 'Vietnam', 'Mexico', 'Portugal', 'Ireland', 'France', 'Dominican-Republic', 'Laos', 'Ecuador', 'Taiwan', 'Haiti', 'Columbia', 'Hungary', 'Guatemala', 'Nicaragua', 'Scotland', 'Thailand', 'Yugoslavia', 'El-Salvador', 'Trinadad&Tobago', 'Peru', 'Hong', 'Holand-Netherlands'], [0, 1, 2, 3, 4, 5, 6, 7, 8, 9, 10, 11, 12, 13, 14, 15, 16, 17, 18, 19, 20, 21, 22, 23, 24, 25, 26, 27, 28, 29, 30, 31, 32, 33, 34, 35, 36, 37, 38, 39, 40], inplace = True)"
   ]
  },
  {
   "cell_type": "code",
   "execution_count": 7,
   "metadata": {},
   "outputs": [],
   "source": [
    "income = income[income['Class of Work'] != '?']\n",
    "income = income[income['Occupation'] != '?']\n",
    "income = income[income['Native Country'] != '?']"
   ]
  },
  {
   "cell_type": "code",
   "execution_count": 8,
   "metadata": {},
   "outputs": [
    {
     "data": {
      "text/html": [
       "<div>\n",
       "<style scoped>\n",
       "    .dataframe tbody tr th:only-of-type {\n",
       "        vertical-align: middle;\n",
       "    }\n",
       "\n",
       "    .dataframe tbody tr th {\n",
       "        vertical-align: top;\n",
       "    }\n",
       "\n",
       "    .dataframe thead th {\n",
       "        text-align: right;\n",
       "    }\n",
       "</style>\n",
       "<table border=\"1\" class=\"dataframe\">\n",
       "  <thead>\n",
       "    <tr style=\"text-align: right;\">\n",
       "      <th></th>\n",
       "      <th>Age</th>\n",
       "      <th>Class of Work</th>\n",
       "      <th>Final Weight</th>\n",
       "      <th>Education</th>\n",
       "      <th>Education by Year</th>\n",
       "      <th>Marital Status</th>\n",
       "      <th>Occupation</th>\n",
       "      <th>Relationship</th>\n",
       "      <th>Race</th>\n",
       "      <th>Sex</th>\n",
       "      <th>Capital-Gain</th>\n",
       "      <th>Capital-Loss</th>\n",
       "      <th>Hours per week</th>\n",
       "      <th>Native Country</th>\n",
       "      <th>Income Category</th>\n",
       "    </tr>\n",
       "  </thead>\n",
       "  <tbody>\n",
       "    <tr>\n",
       "      <th>0</th>\n",
       "      <td>39</td>\n",
       "      <td>5</td>\n",
       "      <td>77516</td>\n",
       "      <td>0</td>\n",
       "      <td>13</td>\n",
       "      <td>2</td>\n",
       "      <td>8</td>\n",
       "      <td>3</td>\n",
       "      <td>0</td>\n",
       "      <td>0</td>\n",
       "      <td>2174</td>\n",
       "      <td>0</td>\n",
       "      <td>40</td>\n",
       "      <td>0</td>\n",
       "      <td>0</td>\n",
       "    </tr>\n",
       "    <tr>\n",
       "      <th>1</th>\n",
       "      <td>50</td>\n",
       "      <td>1</td>\n",
       "      <td>83311</td>\n",
       "      <td>0</td>\n",
       "      <td>13</td>\n",
       "      <td>0</td>\n",
       "      <td>4</td>\n",
       "      <td>2</td>\n",
       "      <td>0</td>\n",
       "      <td>0</td>\n",
       "      <td>0</td>\n",
       "      <td>0</td>\n",
       "      <td>13</td>\n",
       "      <td>0</td>\n",
       "      <td>0</td>\n",
       "    </tr>\n",
       "    <tr>\n",
       "      <th>2</th>\n",
       "      <td>38</td>\n",
       "      <td>0</td>\n",
       "      <td>215646</td>\n",
       "      <td>3</td>\n",
       "      <td>9</td>\n",
       "      <td>1</td>\n",
       "      <td>6</td>\n",
       "      <td>3</td>\n",
       "      <td>0</td>\n",
       "      <td>0</td>\n",
       "      <td>0</td>\n",
       "      <td>0</td>\n",
       "      <td>40</td>\n",
       "      <td>0</td>\n",
       "      <td>0</td>\n",
       "    </tr>\n",
       "    <tr>\n",
       "      <th>3</th>\n",
       "      <td>53</td>\n",
       "      <td>0</td>\n",
       "      <td>234721</td>\n",
       "      <td>2</td>\n",
       "      <td>7</td>\n",
       "      <td>0</td>\n",
       "      <td>6</td>\n",
       "      <td>2</td>\n",
       "      <td>4</td>\n",
       "      <td>0</td>\n",
       "      <td>0</td>\n",
       "      <td>0</td>\n",
       "      <td>40</td>\n",
       "      <td>0</td>\n",
       "      <td>0</td>\n",
       "    </tr>\n",
       "    <tr>\n",
       "      <th>4</th>\n",
       "      <td>28</td>\n",
       "      <td>0</td>\n",
       "      <td>338409</td>\n",
       "      <td>0</td>\n",
       "      <td>13</td>\n",
       "      <td>0</td>\n",
       "      <td>5</td>\n",
       "      <td>0</td>\n",
       "      <td>4</td>\n",
       "      <td>1</td>\n",
       "      <td>0</td>\n",
       "      <td>0</td>\n",
       "      <td>40</td>\n",
       "      <td>12</td>\n",
       "      <td>0</td>\n",
       "    </tr>\n",
       "    <tr>\n",
       "      <th>5</th>\n",
       "      <td>37</td>\n",
       "      <td>0</td>\n",
       "      <td>284582</td>\n",
       "      <td>10</td>\n",
       "      <td>14</td>\n",
       "      <td>0</td>\n",
       "      <td>4</td>\n",
       "      <td>0</td>\n",
       "      <td>0</td>\n",
       "      <td>1</td>\n",
       "      <td>0</td>\n",
       "      <td>0</td>\n",
       "      <td>40</td>\n",
       "      <td>0</td>\n",
       "      <td>0</td>\n",
       "    </tr>\n",
       "    <tr>\n",
       "      <th>6</th>\n",
       "      <td>49</td>\n",
       "      <td>0</td>\n",
       "      <td>160187</td>\n",
       "      <td>7</td>\n",
       "      <td>5</td>\n",
       "      <td>5</td>\n",
       "      <td>2</td>\n",
       "      <td>3</td>\n",
       "      <td>4</td>\n",
       "      <td>1</td>\n",
       "      <td>0</td>\n",
       "      <td>0</td>\n",
       "      <td>16</td>\n",
       "      <td>18</td>\n",
       "      <td>0</td>\n",
       "    </tr>\n",
       "    <tr>\n",
       "      <th>7</th>\n",
       "      <td>52</td>\n",
       "      <td>1</td>\n",
       "      <td>209642</td>\n",
       "      <td>3</td>\n",
       "      <td>9</td>\n",
       "      <td>0</td>\n",
       "      <td>4</td>\n",
       "      <td>2</td>\n",
       "      <td>0</td>\n",
       "      <td>0</td>\n",
       "      <td>0</td>\n",
       "      <td>0</td>\n",
       "      <td>45</td>\n",
       "      <td>0</td>\n",
       "      <td>1</td>\n",
       "    </tr>\n",
       "    <tr>\n",
       "      <th>8</th>\n",
       "      <td>31</td>\n",
       "      <td>0</td>\n",
       "      <td>45781</td>\n",
       "      <td>10</td>\n",
       "      <td>14</td>\n",
       "      <td>2</td>\n",
       "      <td>5</td>\n",
       "      <td>3</td>\n",
       "      <td>0</td>\n",
       "      <td>1</td>\n",
       "      <td>14084</td>\n",
       "      <td>0</td>\n",
       "      <td>50</td>\n",
       "      <td>0</td>\n",
       "      <td>1</td>\n",
       "    </tr>\n",
       "    <tr>\n",
       "      <th>9</th>\n",
       "      <td>42</td>\n",
       "      <td>0</td>\n",
       "      <td>159449</td>\n",
       "      <td>0</td>\n",
       "      <td>13</td>\n",
       "      <td>0</td>\n",
       "      <td>4</td>\n",
       "      <td>2</td>\n",
       "      <td>0</td>\n",
       "      <td>0</td>\n",
       "      <td>5178</td>\n",
       "      <td>0</td>\n",
       "      <td>40</td>\n",
       "      <td>0</td>\n",
       "      <td>1</td>\n",
       "    </tr>\n",
       "  </tbody>\n",
       "</table>\n",
       "</div>"
      ],
      "text/plain": [
       "   Age Class of Work  Final Weight  Education  Education by Year  \\\n",
       "0   39             5         77516          0                 13   \n",
       "1   50             1         83311          0                 13   \n",
       "2   38             0        215646          3                  9   \n",
       "3   53             0        234721          2                  7   \n",
       "4   28             0        338409          0                 13   \n",
       "5   37             0        284582         10                 14   \n",
       "6   49             0        160187          7                  5   \n",
       "7   52             1        209642          3                  9   \n",
       "8   31             0         45781         10                 14   \n",
       "9   42             0        159449          0                 13   \n",
       "\n",
       "   Marital Status Occupation  Relationship  Race  Sex  Capital-Gain  \\\n",
       "0               2          8             3     0    0          2174   \n",
       "1               0          4             2     0    0             0   \n",
       "2               1          6             3     0    0             0   \n",
       "3               0          6             2     4    0             0   \n",
       "4               0          5             0     4    1             0   \n",
       "5               0          4             0     0    1             0   \n",
       "6               5          2             3     4    1             0   \n",
       "7               0          4             2     0    0             0   \n",
       "8               2          5             3     0    1         14084   \n",
       "9               0          4             2     0    0          5178   \n",
       "\n",
       "   Capital-Loss  Hours per week Native Country  Income Category  \n",
       "0             0              40              0                0  \n",
       "1             0              13              0                0  \n",
       "2             0              40              0                0  \n",
       "3             0              40              0                0  \n",
       "4             0              40             12                0  \n",
       "5             0              40              0                0  \n",
       "6             0              16             18                0  \n",
       "7             0              45              0                1  \n",
       "8             0              50              0                1  \n",
       "9             0              40              0                1  "
      ]
     },
     "execution_count": 8,
     "metadata": {},
     "output_type": "execute_result"
    }
   ],
   "source": [
    "income.head(10)"
   ]
  },
  {
   "cell_type": "markdown",
   "metadata": {},
   "source": [
    "## <font color = 'SeaGreen'> Data Visualization </font> "
   ]
  },
  {
   "cell_type": "markdown",
   "metadata": {},
   "source": [
    "I chose to visualize some of the features and the respective frequency of the income category to better understand the dataset."
   ]
  },
  {
   "cell_type": "code",
   "execution_count": 9,
   "metadata": {},
   "outputs": [
    {
     "data": {
      "text/plain": [
       "0    22654\n",
       "1     7508\n",
       "Name: Income Category, dtype: int64"
      ]
     },
     "execution_count": 9,
     "metadata": {},
     "output_type": "execute_result"
    }
   ],
   "source": [
    "income['Income Category'].value_counts()"
   ]
  },
  {
   "cell_type": "code",
   "execution_count": 10,
   "metadata": {},
   "outputs": [
    {
     "data": {
      "text/plain": [
       "<matplotlib.axes._subplots.AxesSubplot at 0x1b246672788>"
      ]
     },
     "execution_count": 10,
     "metadata": {},
     "output_type": "execute_result"
    },
    {
     "data": {
      "image/png": "[encoded data removed]",
      "text/plain": [
       "<Figure size 432x288 with 1 Axes>"
      ]
     },
     "metadata": {
      "needs_background": "light"
     },
     "output_type": "display_data"
    }
   ],
   "source": [
    "sns.countplot(income['Income Category'])"
   ]
  },
  {
   "cell_type": "code",
   "execution_count": 11,
   "metadata": {},
   "outputs": [
    {
     "data": {
      "text/plain": [
       "Text(0, 0.5, 'Frequency')"
      ]
     },
     "execution_count": 11,
     "metadata": {},
     "output_type": "execute_result"
    },
    {
     "data": {
      "image/png": "[encoded data removed]",
      "text/plain": [
       "<Figure size 432x288 with 1 Axes>"
      ]
     },
     "metadata": {
      "needs_background": "light"
     },
     "output_type": "display_data"
    }
   ],
   "source": [
    "plt.hist(income[income[\"Income Category\"]==1].Age.values, 10, facecolor='blue', alpha=0.5)\n",
    "plt.title(\"Age distribution with above $50K annual income\")\n",
    "plt.xlabel(\"Age\")\n",
    "plt.ylabel(\"Frequency\")"
   ]
  },
  {
   "cell_type": "code",
   "execution_count": 59,
   "metadata": {},
   "outputs": [
    {
     "data": {
      "text/plain": [
       "Text(0, 0.5, 'Frequency')"
      ]
     },
     "execution_count": 59,
     "metadata": {},
     "output_type": "execute_result"
    },
    {
     "data": {
      "image/png": "[encoded data removed]",
      "text/plain": [
       "<Figure size 432x288 with 1 Axes>"
      ]
     },
     "metadata": {
      "needs_background": "light"
     },
     "output_type": "display_data"
    }
   ],
   "source": [
    "plt.hist(income[income[\"Income Category\"]==0][\"Education by Year\"].values, 10, facecolor='green', alpha=0.5)\n",
    "plt.title(\"Education distribution with below $50K annual income\")\n",
    "plt.xlabel(\"Education Year\")\n",
    "plt.ylabel(\"Frequency\")"
   ]
  },
  {
   "cell_type": "code",
   "execution_count": 61,
   "metadata": {},
   "outputs": [
    {
     "data": {
      "text/plain": [
       "Text(0, 0.5, 'Frequency')"
      ]
     },
     "execution_count": 61,
     "metadata": {},
     "output_type": "execute_result"
    },
    {
     "data": {
      "image/png": "[encoded data removed]",
      "text/plain": [
       "<Figure size 432x288 with 1 Axes>"
      ]
     },
     "metadata": {
      "needs_background": "light"
     },
     "output_type": "display_data"
    }
   ],
   "source": [
    "plt.hist(income[income[\"Income Category\"]==1][\"Education by Year\"].values, 10, facecolor='green', alpha=0.5)\n",
    "plt.title(\"Education distribution with above $50K annual income\")\n",
    "plt.xlabel(\"Education Year\")\n",
    "plt.ylabel(\"Frequency\")"
   ]
  },
  {
   "cell_type": "code",
   "execution_count": 62,
   "metadata": {},
   "outputs": [
    {
     "data": {
      "text/plain": [
       "Text(0, 0.5, 'Frequency')"
      ]
     },
     "execution_count": 62,
     "metadata": {},
     "output_type": "execute_result"
    },
    {
     "data": {
      "image/png": "[encoded data removed]",
      "text/plain": [
       "<Figure size 432x288 with 1 Axes>"
      ]
     },
     "metadata": {
      "needs_background": "light"
     },
     "output_type": "display_data"
    }
   ],
   "source": [
    "plt.hist(income[income[\"Income Category\"]==0][\"Hours per week\"].values, 10, facecolor='red', alpha=0.5)\n",
    "plt.title(\"Hours/week distribution with below $50K annual income\")\n",
    "plt.xlabel(\"Hours/week\")\n",
    "plt.ylabel(\"Frequency\")"
   ]
  },
  {
   "cell_type": "code",
   "execution_count": 63,
   "metadata": {},
   "outputs": [
    {
     "data": {
      "text/plain": [
       "Text(0, 0.5, 'Frequency')"
      ]
     },
     "execution_count": 63,
     "metadata": {},
     "output_type": "execute_result"
    },
    {
     "data": {
      "image/png": "[encoded data removed]",
      "text/plain": [
       "<Figure size 432x288 with 1 Axes>"
      ]
     },
     "metadata": {
      "needs_background": "light"
     },
     "output_type": "display_data"
    }
   ],
   "source": [
    "plt.hist(income[income[\"Income Category\"]==1][\"Hours per week\"].values, 10, facecolor='red', alpha=0.5)\n",
    "plt.title(\"Hours/week distribution with above $50K annual income\")\n",
    "plt.xlabel(\"Hours/week\")\n",
    "plt.ylabel(\"Frequency\")"
   ]
  },
  {
   "cell_type": "markdown",
   "metadata": {},
   "source": [
    "## <font color = 'SeaGreen'> Splitting the Dataset into a Training and Testing Set. </font> "
   ]
  },
  {
   "cell_type": "markdown",
   "metadata": {},
   "source": [
    "The *train_test_split* method from the model_selection package in sklearn ensures that both the features and the output (income category) are split. I chose to have the test size be 35% of the dataset allowing for 65% of the dataset to train the classifier"
   ]
  },
  {
   "cell_type": "code",
   "execution_count": 13,
   "metadata": {},
   "outputs": [],
   "source": [
    "X = income.drop('Income Category', axis=1) #All of the features besides quality\n",
    "y = income['Income Category']\n",
    "X_train, X_test, y_train, y_test = train_test_split(X, y, test_size = 0.25, random_state = 10)"
   ]
  },
  {
   "cell_type": "markdown",
   "metadata": {},
   "source": [
    "I applied a Standard Scaler to the data to ensure that the data is normally distributed and $\\mu = 0$ and $\\sigma = 1$. This is important because features such as *Final Weight* and *Capital Gain* have much larger values than *Relationship*, or *Race*. The model should not be skewed in favor of the large parameters. Each feature should be treated equally."
   ]
  },
  {
   "cell_type": "code",
   "execution_count": 14,
   "metadata": {},
   "outputs": [
    {
     "data": {
      "text/plain": [
       "array([[-1.63666649, -0.49894997, -0.22409534, -0.40161329, -1.21756042,\n",
       "         0.81245913,  0.42499252, -1.13607777, -0.37238476, -0.69180443,\n",
       "        -0.14686997, -0.21743312, -1.73886654,  6.46837417],\n",
       "       [-0.33997058, -0.49894997,  0.75448338, -0.6932351 , -0.04239149,\n",
       "         0.81245913,  1.09592251, -1.13607777, -0.37238476,  1.44549522,\n",
       "        -0.14686997, -0.21743312, -0.07490793, -0.26843863],\n",
       "       [ 0.04141056,  0.18800969,  1.39424134,  1.9313612 ,  1.52450043,\n",
       "        -0.89726113, -1.25233245, -0.32201286, -0.37238476, -0.69180443,\n",
       "        -0.14686997, -0.21743312,  1.17306103, -0.26843863],\n",
       "       [-0.33997058, -0.49894997,  0.18818156, -0.6932351 , -0.04239149,\n",
       "        -0.89726113, -1.58779745, -0.32201286,  2.9591223 , -0.69180443,\n",
       "        -0.14686997, -0.21743312, -0.07490793, -0.26843863],\n",
       "       [ 0.42279171,  2.24888869, -0.49810685,  1.9313612 ,  1.52450043,\n",
       "        -0.89726113,  0.08952753, -0.32201286, -0.37238476, -0.69180443,\n",
       "         1.94914465, -0.21743312, -0.49089758, -0.26843863]])"
      ]
     },
     "execution_count": 14,
     "metadata": {},
     "output_type": "execute_result"
    }
   ],
   "source": [
    "sc = StandardScaler()\n",
    "X_train = sc.fit_transform(X_train)\n",
    "X_test = sc.transform(X_test)\n",
    "X_train[:5]"
   ]
  },
  {
   "cell_type": "markdown",
   "metadata": {},
   "source": [
    "## <font color = 'SeaGreen'> Random Forest Classifier </font> "
   ]
  },
  {
   "cell_type": "code",
   "execution_count": 15,
   "metadata": {
    "scrolled": true
   },
   "outputs": [],
   "source": [
    "RFC = RandomForestClassifier(n_estimators=150)\n",
    "RFC.fit(X_train, y_train)\n",
    "pred_RFC = RFC.predict(X_test)"
   ]
  },
  {
   "cell_type": "code",
   "execution_count": 16,
   "metadata": {},
   "outputs": [
    {
     "name": "stdout",
     "output_type": "stream",
     "text": [
      "              precision    recall  f1-score   support\n",
      "\n",
      "           0       0.88      0.93      0.90      5656\n",
      "           1       0.75      0.62      0.68      1885\n",
      "\n",
      "    accuracy                           0.85      7541\n",
      "   macro avg       0.81      0.78      0.79      7541\n",
      "weighted avg       0.85      0.85      0.85      7541\n",
      "\n"
     ]
    }
   ],
   "source": [
    "print(classification_report(y_test, pred_RFC))"
   ]
  },
  {
   "cell_type": "code",
   "execution_count": 18,
   "metadata": {},
   "outputs": [
    {
     "name": "stdout",
     "output_type": "stream",
     "text": [
      "[[5264  392]\n",
      " [ 716 1169]]\n"
     ]
    }
   ],
   "source": [
    "print(confusion_matrix(y_test, pred_RFC))"
   ]
  },
  {
   "cell_type": "code",
   "execution_count": 20,
   "metadata": {},
   "outputs": [
    {
     "data": {
      "text/plain": [
       "0.8530698846306856"
      ]
     },
     "execution_count": 20,
     "metadata": {},
     "output_type": "execute_result"
    }
   ],
   "source": [
    "acc = accuracy_score(y_test, pred_RFC)\n",
    "acc"
   ]
  },
  {
   "cell_type": "markdown",
   "metadata": {},
   "source": [
    "## <font color = 'SeaGreen'> Support Vector Machine Classifier </font> "
   ]
  },
  {
   "cell_type": "code",
   "execution_count": 21,
   "metadata": {},
   "outputs": [],
   "source": [
    "clf = svm.SVC()\n",
    "clf.fit(X_train, y_train)\n",
    "pred_clf = clf.predict(X_test)"
   ]
  },
  {
   "cell_type": "code",
   "execution_count": 22,
   "metadata": {},
   "outputs": [
    {
     "name": "stdout",
     "output_type": "stream",
     "text": [
      "              precision    recall  f1-score   support\n",
      "\n",
      "           0       0.86      0.94      0.90      5656\n",
      "           1       0.76      0.56      0.64      1885\n",
      "\n",
      "    accuracy                           0.85      7541\n",
      "   macro avg       0.81      0.75      0.77      7541\n",
      "weighted avg       0.84      0.85      0.84      7541\n",
      "\n"
     ]
    }
   ],
   "source": [
    "print(classification_report(y_test, pred_clf))"
   ]
  },
  {
   "cell_type": "code",
   "execution_count": 23,
   "metadata": {},
   "outputs": [
    {
     "name": "stdout",
     "output_type": "stream",
     "text": [
      "[[5324  332]\n",
      " [ 833 1052]]\n"
     ]
    }
   ],
   "source": [
    "print(confusion_matrix(y_test, pred_clf))"
   ]
  },
  {
   "cell_type": "code",
   "execution_count": 53,
   "metadata": {},
   "outputs": [
    {
     "data": {
      "text/plain": [
       "0.845511205410423"
      ]
     },
     "execution_count": 53,
     "metadata": {},
     "output_type": "execute_result"
    }
   ],
   "source": [
    "acc = accuracy_score(y_test, pred_clf)\n",
    "acc"
   ]
  },
  {
   "cell_type": "markdown",
   "metadata": {},
   "source": [
    "## <font color = 'SeaGreen'> Multi-layer Perceptron Classifier </font> "
   ]
  },
  {
   "cell_type": "code",
   "execution_count": 25,
   "metadata": {},
   "outputs": [],
   "source": [
    "MLP = MLPClassifier(hidden_layer_sizes = (14, 14, 14), max_iter=1000)\n",
    "MLP.fit(X_train, y_train)\n",
    "pred_MLP = MLP.predict(X_test)"
   ]
  },
  {
   "cell_type": "code",
   "execution_count": 26,
   "metadata": {},
   "outputs": [
    {
     "name": "stdout",
     "output_type": "stream",
     "text": [
      "              precision    recall  f1-score   support\n",
      "\n",
      "           0       0.89      0.91      0.90      5656\n",
      "           1       0.71      0.66      0.68      1885\n",
      "\n",
      "    accuracy                           0.85      7541\n",
      "   macro avg       0.80      0.78      0.79      7541\n",
      "weighted avg       0.84      0.85      0.84      7541\n",
      "\n"
     ]
    }
   ],
   "source": [
    "print(classification_report(y_test, pred_MLP))"
   ]
  },
  {
   "cell_type": "code",
   "execution_count": 27,
   "metadata": {},
   "outputs": [
    {
     "name": "stdout",
     "output_type": "stream",
     "text": [
      "[[5153  503]\n",
      " [ 650 1235]]\n"
     ]
    }
   ],
   "source": [
    "print(confusion_matrix(y_test, pred_MLP))"
   ]
  },
  {
   "cell_type": "code",
   "execution_count": 28,
   "metadata": {},
   "outputs": [
    {
     "data": {
      "text/plain": [
       "0.8471025062988994"
      ]
     },
     "execution_count": 28,
     "metadata": {},
     "output_type": "execute_result"
    }
   ],
   "source": [
    "acc = accuracy_score(y_test, pred_MLP)\n",
    "acc"
   ]
  },
  {
   "cell_type": "markdown",
   "metadata": {},
   "source": [
    "## <font color = 'SeaGreen'> Decision Tree Classifier </font> "
   ]
  },
  {
   "cell_type": "code",
   "execution_count": 29,
   "metadata": {},
   "outputs": [
    {
     "data": {
      "text/plain": [
       "DecisionTreeClassifier(ccp_alpha=0.0, class_weight=None, criterion='gini',\n",
       "                       max_depth=5, max_features=None, max_leaf_nodes=None,\n",
       "                       min_impurity_decrease=0.0, min_impurity_split=None,\n",
       "                       min_samples_leaf=1, min_samples_split=2,\n",
       "                       min_weight_fraction_leaf=0.0, presort='deprecated',\n",
       "                       random_state=100, splitter='best')"
      ]
     },
     "execution_count": 29,
     "metadata": {},
     "output_type": "execute_result"
    }
   ],
   "source": [
    "DTC = DecisionTreeClassifier(random_state=100, max_depth=5)\n",
    "DTC.fit(X_train, y_train)"
   ]
  },
  {
   "cell_type": "code",
   "execution_count": 30,
   "metadata": {
    "scrolled": true
   },
   "outputs": [
    {
     "name": "stdout",
     "output_type": "stream",
     "text": [
      "[[5385  271]\n",
      " [ 898  987]]\n"
     ]
    }
   ],
   "source": [
    "train_predictions = DTC.predict(X_train)\n",
    "pred_DTC = DTC.predict(X_test)\n",
    "print(confusion_matrix(y_test, pred_DTC))"
   ]
  },
  {
   "cell_type": "code",
   "execution_count": 31,
   "metadata": {},
   "outputs": [
    {
     "name": "stdout",
     "output_type": "stream",
     "text": [
      "              precision    recall  f1-score   support\n",
      "\n",
      "           0       0.86      0.95      0.90      5656\n",
      "           1       0.78      0.52      0.63      1885\n",
      "\n",
      "    accuracy                           0.84      7541\n",
      "   macro avg       0.82      0.74      0.77      7541\n",
      "weighted avg       0.84      0.84      0.83      7541\n",
      "\n"
     ]
    }
   ],
   "source": [
    "print(classification_report(y_test, pred_DTC))"
   ]
  },
  {
   "cell_type": "code",
   "execution_count": 32,
   "metadata": {},
   "outputs": [
    {
     "data": {
      "text/plain": [
       "0.8449807717809309"
      ]
     },
     "execution_count": 32,
     "metadata": {},
     "output_type": "execute_result"
    }
   ],
   "source": [
    "acc = accuracy_score(y_test, pred_DTC)\n",
    "acc"
   ]
  },
  {
   "cell_type": "markdown",
   "metadata": {},
   "source": [
    "## <font color = 'SeaGreen'> Hyperparameter Tuning (Support Vector Machine) </font> "
   ]
  },
  {
   "cell_type": "code",
   "execution_count": 33,
   "metadata": {},
   "outputs": [
    {
     "data": {
      "text/plain": [
       "0.7559805973263133"
      ]
     },
     "execution_count": 33,
     "metadata": {},
     "output_type": "execute_result"
    }
   ],
   "source": [
    "score = cross_val_score(tree_clf, X_train, y_train, cv = 5, scoring = 'f1_macro')\n",
    "score.mean()"
   ]
  },
  {
   "cell_type": "code",
   "execution_count": 34,
   "metadata": {},
   "outputs": [
    {
     "name": "stdout",
     "output_type": "stream",
     "text": [
      "The Training F1 Score is 0.6188070929607739\n",
      "The Testing F1 Score is 0.6280623608017818\n"
     ]
    }
   ],
   "source": [
    "#Checking to see if the Decision Tree is overfitted. \n",
    "print(\"The Training F1 Score is\", f1_score(train_predictions, y_train))\n",
    "print(\"The Testing F1 Score is\", f1_score(pred_dtc, y_test))"
   ]
  },
  {
   "cell_type": "markdown",
   "metadata": {},
   "source": [
    "The results below for the GridSearchCV demonstrate the scores from the five different cross-validation trials. The RBF kernel with a C value of 1 seemed to produce the best mean test score but each of the five scores is still very close to each other. "
   ]
  },
  {
   "cell_type": "code",
   "execution_count": 47,
   "metadata": {},
   "outputs": [
    {
     "data": {
      "text/plain": [
       "GridSearchCV(cv=5, error_score=nan,\n",
       "             estimator=SVC(C=1.0, break_ties=False, cache_size=200,\n",
       "                           class_weight=None, coef0=0.0,\n",
       "                           decision_function_shape='ovr', degree=3,\n",
       "                           gamma='auto', kernel='rbf', max_iter=-1,\n",
       "                           probability=False, random_state=None, shrinking=True,\n",
       "                           tol=0.001, verbose=False),\n",
       "             iid='deprecated', n_jobs=None,\n",
       "             param_grid={'C': [1, 10, 20], 'kernel': ['rbf', 'linear']},\n",
       "             pre_dispatch='2*n_jobs', refit=True, return_train_score=False,\n",
       "             scoring=None, verbose=0)"
      ]
     },
     "execution_count": 47,
     "metadata": {},
     "output_type": "execute_result"
    }
   ],
   "source": [
    "GSCV = GridSearchCV(svm.SVC(gamma = \"auto\"), {\n",
    "    'C': [1, 10, 20],\n",
    "    'kernel': ['rbf', 'linear']\n",
    "}, cv = 5, return_train_score = False)\n",
    "\n",
    "GSCV.fit(X_train, y_train)"
   ]
  },
  {
   "cell_type": "code",
   "execution_count": 49,
   "metadata": {},
   "outputs": [
    {
     "data": {
      "text/plain": [
       "{'mean_fit_time': array([ 9.44090753, 11.50188084, 13.94156656, 40.65536585, 16.23147578,\n",
       "        71.63549361]),\n",
       " 'std_fit_time': array([0.81035446, 0.13484138, 0.21015353, 0.80159731, 1.27727564,\n",
       "        4.04634212]),\n",
       " 'mean_score_time': array([1.33945813, 0.69874735, 1.36595359, 0.69614177, 1.3671536 ,\n",
       "        0.70673208]),\n",
       " 'std_score_time': array([0.12649319, 0.00381951, 0.00560563, 0.0031446 , 0.0054026 ,\n",
       "        0.01420667]),\n",
       " 'param_C': masked_array(data=[1, 1, 10, 10, 20, 20],\n",
       "              mask=[False, False, False, False, False, False],\n",
       "        fill_value='?',\n",
       "             dtype=object),\n",
       " 'param_kernel': masked_array(data=['rbf', 'linear', 'rbf', 'linear', 'rbf', 'linear'],\n",
       "              mask=[False, False, False, False, False, False],\n",
       "        fill_value='?',\n",
       "             dtype=object),\n",
       " 'params': [{'C': 1, 'kernel': 'rbf'},\n",
       "  {'C': 1, 'kernel': 'linear'},\n",
       "  {'C': 10, 'kernel': 'rbf'},\n",
       "  {'C': 10, 'kernel': 'linear'},\n",
       "  {'C': 20, 'kernel': 'rbf'},\n",
       "  {'C': 20, 'kernel': 'linear'}],\n",
       " 'split0_test_score': array([0.84287293, 0.83911602, 0.84508287, 0.83911602, 0.84618785,\n",
       "        0.83911602]),\n",
       " 'split1_test_score': array([0.83819629, 0.83443855, 0.83841733, 0.83399646, 0.83952255,\n",
       "        0.83399646]),\n",
       " 'split2_test_score': array([0.84703802, 0.84350133, 0.8428382 , 0.84350133, 0.84173298,\n",
       "        0.84350133]),\n",
       " 'split3_test_score': array([0.84504863, 0.84106985, 0.84328028, 0.84106985, 0.84040672,\n",
       "        0.84106985]),\n",
       " 'split4_test_score': array([0.84416446, 0.8362069 , 0.8428382 , 0.83642794, 0.84173298,\n",
       "        0.83642794]),\n",
       " 'mean_test_score': array([0.84346406, 0.83886653, 0.84249138, 0.83882232, 0.84191661,\n",
       "        0.83882232]),\n",
       " 'std_test_score': array([0.00296221, 0.00325819, 0.00219894, 0.00334821, 0.00229444,\n",
       "        0.00334821]),\n",
       " 'rank_test_score': array([1, 4, 2, 5, 3, 5])}"
      ]
     },
     "execution_count": 49,
     "metadata": {},
     "output_type": "execute_result"
    }
   ],
   "source": [
    "GSCV.cv_results_"
   ]
  },
  {
   "cell_type": "markdown",
   "metadata": {},
   "source": [
    "The results below for the RandomSearchCV demonstrate the scores from the two iterations. The RBF kernel with a C value of 1 seemed to produce the best mean test score. I chose to use two iterations to speed up the process. "
   ]
  },
  {
   "cell_type": "code",
   "execution_count": 44,
   "metadata": {},
   "outputs": [
    {
     "data": {
      "text/plain": [
       "RandomizedSearchCV(cv=5, error_score=nan,\n",
       "                   estimator=SVC(C=1.0, break_ties=False, cache_size=200,\n",
       "                                 class_weight=None, coef0=0.0,\n",
       "                                 decision_function_shape='ovr', degree=3,\n",
       "                                 gamma='auto', kernel='rbf', max_iter=-1,\n",
       "                                 probability=False, random_state=None,\n",
       "                                 shrinking=True, tol=0.001, verbose=False),\n",
       "                   iid='deprecated', n_iter=2, n_jobs=None,\n",
       "                   param_distributions={'C': [1, 10, 20],\n",
       "                                        'kernel': ['rbf', 'linear']},\n",
       "                   pre_dispatch='2*n_jobs', random_state=None, refit=True,\n",
       "                   return_train_score=False, scoring=None, verbose=0)"
      ]
     },
     "execution_count": 44,
     "metadata": {},
     "output_type": "execute_result"
    }
   ],
   "source": [
    "RS = RandomizedSearchCV(svm.SVC(gamma = \"auto\"), {\n",
    "    'C': [1, 10, 20],\n",
    "    'kernel': ['rbf', 'linear']\n",
    "}, cv = 5, return_train_score = False, n_iter=2)\n",
    "\n",
    "RS.fit(X_train, y_train)"
   ]
  },
  {
   "cell_type": "code",
   "execution_count": 45,
   "metadata": {},
   "outputs": [
    {
     "data": {
      "text/plain": [
       "{'mean_fit_time': array([ 9.87321062, 70.93206229]),\n",
       " 'std_fit_time': array([0.40554098, 3.75435546]),\n",
       " 'mean_score_time': array([1.40964532, 0.69953771]),\n",
       " 'std_score_time': array([0.01248228, 0.00311803]),\n",
       " 'param_kernel': masked_array(data=['rbf', 'linear'],\n",
       "              mask=[False, False],\n",
       "        fill_value='?',\n",
       "             dtype=object),\n",
       " 'param_C': masked_array(data=[1, 20],\n",
       "              mask=[False, False],\n",
       "        fill_value='?',\n",
       "             dtype=object),\n",
       " 'params': [{'kernel': 'rbf', 'C': 1}, {'kernel': 'linear', 'C': 20}],\n",
       " 'split0_test_score': array([0.84287293, 0.83911602]),\n",
       " 'split1_test_score': array([0.83819629, 0.83399646]),\n",
       " 'split2_test_score': array([0.84703802, 0.84350133]),\n",
       " 'split3_test_score': array([0.84504863, 0.84106985]),\n",
       " 'split4_test_score': array([0.84416446, 0.83642794]),\n",
       " 'mean_test_score': array([0.84346406, 0.83882232]),\n",
       " 'std_test_score': array([0.00296221, 0.00334821]),\n",
       " 'rank_test_score': array([1, 2])}"
      ]
     },
     "execution_count": 45,
     "metadata": {},
     "output_type": "execute_result"
    }
   ],
   "source": [
    "RS.cv_results_"
   ]
  },
  {
   "cell_type": "markdown",
   "metadata": {},
   "source": [
    "# <font color = 'CornflowerBlue'>Summary and Analysis</font>"
   ]
  },
  {
   "cell_type": "markdown",
   "metadata": {},
   "source": [
    "For this project, I chose to use the census income dataset from the UC Irvine Dataset Repository. One of the main problems with the dataset was that about 1% of the data was incomplete. Most of my time was spent in cleaning and preparing the dataset for the four different classification models. I chose to run the following four classification models: Random Forest Classifier, Support Vector Machine Classifier, Multi-layer Perceptron (Neural-Network Model), and the Decision Tree Classifier. The Random Forest Classifier produced the highest accuracy (0.8531) while the Decision Tree Classifier produced the lowest accuracy (0.8449). However, all four of the accuracy values were very close to each other (IQR = 0.00649). This is perhaps due to the large size of the data set and the overfitting of models to the data (refer to the low F1 testing score as a potential indicator of overfitting). \n",
    "\n",
    "As a result, I tried to optimize the classifier using cross-validation techniques present in the GridSearchCV object from the Sklearn Model Selection package. Since the dataset is very large, and GridSearchCV studies every permutation of the parameter list using K-Fold Cross-Validation, I limited the 'C' (cross-validation generator) and 'Kernel' (Function type) parameters. In both instances, I received the highest mean test score when C = 1, and the Kernel was set to the RBF function. "
   ]
  }
 ],
 "metadata": {
  "kernelspec": {
   "display_name": "Python 3",
   "language": "python",
   "name": "python3"
  },
  "language_info": {
   "codemirror_mode": {
    "name": "ipython",
    "version": 3
   },
   "file_extension": ".py",
   "mimetype": "text/x-python",
   "name": "python",
   "nbconvert_exporter": "python",
   "pygments_lexer": "ipython3",
   "version": "3.7.6"
  }
 },
 "nbformat": 4,
 "nbformat_minor": 4
}
